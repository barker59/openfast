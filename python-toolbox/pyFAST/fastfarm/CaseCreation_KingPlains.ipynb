{
 "cells": [
  {
   "cell_type": "code",
   "execution_count": 78,
   "metadata": {},
   "outputs": [],
   "source": [
    "import pandas as pd\n",
    "import numpy as np\n",
    "import os\n",
    "import matplotlib.pyplot as plt\n",
    "\n",
    "from InputSetup import FFInputCreation as inputCreation\n",
    "from ParameterManipulation import createTSParamFiles, createFFParamFiles, copyNominalFiles\n",
    "from stochasticTurbulenceTools_mod import stochasticTurbulence"
   ]
  },
  {
   "cell_type": "markdown",
   "metadata": {},
   "source": [
    "#### A few input parameters. If # of seeds does not apply, can set to one or modify other parts of this script to remove it."
   ]
  },
  {
   "cell_type": "code",
   "execution_count": 79,
   "metadata": {},
   "outputs": [],
   "source": [
    "nSeeds = 2\n",
    "\n",
    "# Z_bot= 10\n",
    "# GridHeight = 100\n",
    "# GridWidth = 100 \n",
    "# D_grid = np.min(GridWidth,GridHeight)\n",
    "# HubHt = Z_bot + GridHeight -(0.5*D_grid)\n",
    "# This seems to happen in TSCaseCreation automatically\n",
    "HubHt = 88.5\n",
    "D=127"
   ]
  },
  {
   "cell_type": "code",
   "execution_count": 80,
   "metadata": {},
   "outputs": [],
   "source": [
    "workdir='/Users/abarker/Desktop/AWAKEN/FAST/openfast/python-toolbox/pyFAST/fastfarm/'\n",
    "os.chdir(workdir)"
   ]
  },
  {
   "cell_type": "markdown",
   "metadata": {},
   "source": [
    "### Create cases based on ranges or discrete values?"
   ]
  },
  {
   "cell_type": "code",
   "execution_count": 81,
   "metadata": {},
   "outputs": [],
   "source": [
    "Ranges = False"
   ]
  },
  {
   "cell_type": "markdown",
   "metadata": {},
   "source": [
    "### Read in case parameters"
   ]
  },
  {
   "cell_type": "code",
   "execution_count": 136,
   "metadata": {},
   "outputs": [],
   "source": [
    "if Ranges == False:\n",
    "    ParamVals = pd.read_csv(os.path.join(workdir,'SampleFiles/ParamValues_KingPlains.csv'), header=None,index_col=0,delimiter=',')\n",
    "    nTurbs = int(ParamVals.shape[0]/3)\n",
    "    nCases = int(ParamVals.shape[1])\n",
    "else:\n",
    "    #writeParamVals()\n",
    "    OrigVals = pd.read_csv(os.path.join(workdir,'SampleFiles/ParamRanges.csv'), names=['Var','MinVar','MaxVar','NomVar'])\n",
    "    OrigVals = OrigVals['NomVar']"
   ]
  },
  {
   "cell_type": "code",
   "execution_count": 137,
   "metadata": {},
   "outputs": [
    {
     "data": {
      "text/html": [
       "<div>\n",
       "<style scoped>\n",
       "    .dataframe tbody tr th:only-of-type {\n",
       "        vertical-align: middle;\n",
       "    }\n",
       "\n",
       "    .dataframe tbody tr th {\n",
       "        vertical-align: top;\n",
       "    }\n",
       "\n",
       "    .dataframe thead th {\n",
       "        text-align: right;\n",
       "    }\n",
       "</style>\n",
       "<table border=\"1\" class=\"dataframe\">\n",
       "  <thead>\n",
       "    <tr style=\"text-align: right;\">\n",
       "      <th></th>\n",
       "      <th>1</th>\n",
       "    </tr>\n",
       "    <tr>\n",
       "      <th>0</th>\n",
       "      <th></th>\n",
       "    </tr>\n",
       "  </thead>\n",
       "  <tbody>\n",
       "    <tr>\n",
       "      <th>TI</th>\n",
       "      <td>A</td>\n",
       "    </tr>\n",
       "    <tr>\n",
       "      <th>Vhub</th>\n",
       "      <td>4.5</td>\n",
       "    </tr>\n",
       "    <tr>\n",
       "      <th>Shear</th>\n",
       "      <td>0.1</td>\n",
       "    </tr>\n",
       "    <tr>\n",
       "      <th>T1x-locs</th>\n",
       "      <td>0.0</td>\n",
       "    </tr>\n",
       "    <tr>\n",
       "      <th>T1y-locs</th>\n",
       "      <td>0.0</td>\n",
       "    </tr>\n",
       "    <tr>\n",
       "      <th>T2x-locs</th>\n",
       "      <td>6796.19</td>\n",
       "    </tr>\n",
       "    <tr>\n",
       "      <th>T2y-locs</th>\n",
       "      <td>4170</td>\n",
       "    </tr>\n",
       "    <tr>\n",
       "      <th>T3x-locs</th>\n",
       "      <td>6796.19</td>\n",
       "    </tr>\n",
       "    <tr>\n",
       "      <th>T3y-locs</th>\n",
       "      <td>-2015.79</td>\n",
       "    </tr>\n",
       "  </tbody>\n",
       "</table>\n",
       "</div>"
      ],
      "text/plain": [
       "                 1\n",
       "0                 \n",
       "TI               A\n",
       "Vhub           4.5\n",
       "Shear          0.1\n",
       "T1x-locs       0.0\n",
       "T1y-locs       0.0\n",
       "T2x-locs   6796.19\n",
       "T2y-locs      4170\n",
       "T3x-locs   6796.19\n",
       "T3y-locs  -2015.79"
      ]
     },
     "execution_count": 137,
     "metadata": {},
     "output_type": "execute_result"
    }
   ],
   "source": [
    "ParamVals"
   ]
  },
  {
   "cell_type": "markdown",
   "metadata": {},
   "source": [
    "##### Detect the number of turbines in the simulation; this will have to be modified based on your input file"
   ]
  },
  {
   "cell_type": "code",
   "execution_count": 138,
   "metadata": {},
   "outputs": [],
   "source": [
    "nTurbs=int(ParamVals[3:].shape[0]/2)"
   ]
  },
  {
   "cell_type": "code",
   "execution_count": 139,
   "metadata": {},
   "outputs": [
    {
     "data": {
      "text/plain": [
       "3"
      ]
     },
     "execution_count": 139,
     "metadata": {},
     "output_type": "execute_result"
    }
   ],
   "source": [
    "nTurbs"
   ]
  },
  {
   "cell_type": "code",
   "execution_count": 155,
   "metadata": {},
   "outputs": [
    {
     "data": {
      "text/plain": [
       "1"
      ]
     },
     "execution_count": 155,
     "metadata": {},
     "output_type": "execute_result"
    }
   ],
   "source": [
    "nCases=ParamVals.shape[1]"
   ]
  },
  {
   "cell_type": "markdown",
   "metadata": {},
   "source": [
    "### This section can be modified based on how you want to name your directory structure"
   ]
  },
  {
   "cell_type": "code",
   "execution_count": 156,
   "metadata": {},
   "outputs": [],
   "source": [
    "caseNames=['None']*nCases\n",
    "for case in range(nCases):\n",
    "    if case < 10:\n",
    "        case = '0'+str(case)\n",
    "    caseNames[int(case)] = 'Case{0}'.format(case)\n",
    "    \n",
    "ParamVals.columns=caseNames"
   ]
  },
  {
   "cell_type": "markdown",
   "metadata": {},
   "source": [
    "### This section creates the directory structure and copies any nominal files from a specified directory to all directories created here. This will have to be modified based on the directory structure you want and the files you want to copy"
   ]
  },
  {
   "cell_type": "code",
   "execution_count": 157,
   "metadata": {},
   "outputs": [
    {
     "data": {
      "text/plain": [
       "'/Users/abarker/Desktop/AWAKEN/FAST/openfast/python-toolbox/pyFAST/fastfarm'"
      ]
     },
     "execution_count": 157,
     "metadata": {},
     "output_type": "execute_result"
    }
   ],
   "source": [
    "os.getcwd()"
   ]
  },
  {
   "cell_type": "code",
   "execution_count": 159,
   "metadata": {},
   "outputs": [
    {
     "name": "stdout",
     "output_type": "stream",
     "text": [
      "/Users/abarker/Desktop/AWAKEN/FAST/openfast/python-toolbox/pyFAST/fastfarm/Case00/Seed_0/Case00\n",
      "/Users/abarker/Desktop/AWAKEN/FAST/openfast/python-toolbox/pyFAST/fastfarm/Case00/Seed_0/Case00/Seed_0\n",
      "/Users/abarker/Desktop/AWAKEN/FAST/openfast/python-toolbox/pyFAST/fastfarm/Case00/Seed_0/Case00/Seed_1\n"
     ]
    }
   ],
   "source": [
    "for case in range(nCases):\n",
    "    name1=caseNames[case]\n",
    "    if not os.path.exists(name1):\n",
    "        os.makedirs(name1)\n",
    "    os.chdir(name1)\n",
    "    print(os.getcwd())\n",
    "    copyNominalFiles(nSeeds,nTurbs)\n",
    "    os.chdir('..')\n",
    "os.chdir('..')\n",
    "\n",
    "os.chdir(workdir)"
   ]
  },
  {
   "cell_type": "markdown",
   "metadata": {},
   "source": [
    "# Create TurbSim Files"
   ]
  },
  {
   "cell_type": "markdown",
   "metadata": {},
   "source": [
    "## The following command creates the .inp files for the low- and high-resolution domains, as well as a .inp file for each turbine in the simulation."
   ]
  },
  {
   "cell_type": "code",
   "execution_count": 160,
   "metadata": {},
   "outputs": [],
   "source": [
    "os.chdir(workdir)"
   ]
  },
  {
   "cell_type": "code",
   "execution_count": 161,
   "metadata": {
    "scrolled": true
   },
   "outputs": [
    {
     "name": "stdout",
     "output_type": "stream",
     "text": [
      "/Users/abarker/Desktop/AWAKEN/FAST/openfast/python-toolbox/pyFAST/fastfarm/Case00/Seed_0\n",
      "Writing TurbSim input file:  TSParams.txt\n",
      "-459.9271345 459.9271345\n",
      "Writing a new Low.inp file from scratch\n",
      "Writing a new HighT1.inp file from scratch\n",
      "Writing a new HighT2.inp file from scratch\n",
      "Writing a new HighT3.inp file from scratch\n",
      "/Users/abarker/Desktop/AWAKEN/FAST/openfast/python-toolbox/pyFAST/fastfarm/Case00/Seed_1\n",
      "Writing TurbSim input file:  TSParams.txt\n",
      "-459.9271345 459.9271345\n",
      "Writing a new Low.inp file from scratch\n",
      "Writing a new HighT1.inp file from scratch\n",
      "Writing a new HighT2.inp file from scratch\n",
      "Writing a new HighT3.inp file from scratch\n"
     ]
    },
    {
     "name": "stderr",
     "output_type": "stream",
     "text": [
      "/Users/abarker/Desktop/AWAKEN/FAST/openfast/python-toolbox/pyFAST/fastfarm/InputSetup.py:97: MatplotlibDeprecationWarning: savefig() got unexpected keyword argument \"bbox_to_inches\" which is no longer supported as of 3.3 and will become an error two minor releases later\n",
      "  fig.savefig('TSLayout.pdf',bbox_to_inches='tight',dpi=500)\n",
      "/Users/abarker/Desktop/AWAKEN/FAST/openfast/python-toolbox/pyFAST/fastfarm/InputSetup.py:97: MatplotlibDeprecationWarning: savefig() got unexpected keyword argument \"bbox_to_inches\" which is no longer supported as of 3.3 and will become an error two minor releases later\n",
      "  fig.savefig('TSLayout.pdf',bbox_to_inches='tight',dpi=500)\n"
     ]
    },
    {
     "data": {
      "image/png": "[encoded data removed]",
      "text/plain": [
       "<Figure size 432x360 with 1 Axes>"
      ]
     },
     "metadata": {
      "needs_background": "light"
     },
     "output_type": "display_data"
    },
    {
     "data": {
      "image/png": "[encoded data removed]",
      "text/plain": [
       "<Figure size 432x360 with 1 Axes>"
      ]
     },
     "metadata": {
      "needs_background": "light"
     },
     "output_type": "display_data"
    }
   ],
   "source": [
    "createTSParamFiles(caseNames,nSeeds,ParamVals,D,HubHt,'TSParams.txt')"
   ]
  },
  {
   "cell_type": "markdown",
   "metadata": {},
   "source": [
    "## Determine Low-Res Domain Area "
   ]
  },
  {
   "cell_type": "markdown",
   "metadata": {},
   "source": [
    "### Read Turbine Locations and rotate the domain accoring to the directional discretization required\n"
   ]
  },
  {
   "cell_type": "code",
   "execution_count": 164,
   "metadata": {},
   "outputs": [],
   "source": [
    "Yaw = pd.read_csv('KingPlainsDirectionSweepInfo.csv', header=None,index_col=0,delimiter=',')\n",
    "nCases = int(Yaw.shape[1])\n",
    "caseNames=['None']*nCases\n",
    "for case in range(nCases):\n",
    "    caseNames[int(case)] = 'Case_{0}'.format(case)\n",
    "    \n",
    "    \n",
    "Yaw.columns=caseNames"
   ]
  },
  {
   "cell_type": "code",
   "execution_count": 165,
   "metadata": {},
   "outputs": [
    {
     "data": {
      "text/html": [
       "<div>\n",
       "<style scoped>\n",
       "    .dataframe tbody tr th:only-of-type {\n",
       "        vertical-align: middle;\n",
       "    }\n",
       "\n",
       "    .dataframe tbody tr th {\n",
       "        vertical-align: top;\n",
       "    }\n",
       "\n",
       "    .dataframe thead th {\n",
       "        text-align: right;\n",
       "    }\n",
       "</style>\n",
       "<table border=\"1\" class=\"dataframe\">\n",
       "  <thead>\n",
       "    <tr style=\"text-align: right;\">\n",
       "      <th></th>\n",
       "      <th>Case_0</th>\n",
       "      <th>Case_1</th>\n",
       "      <th>Case_2</th>\n",
       "      <th>Case_3</th>\n",
       "      <th>Case_4</th>\n",
       "      <th>Case_5</th>\n",
       "    </tr>\n",
       "    <tr>\n",
       "      <th>0</th>\n",
       "      <th></th>\n",
       "      <th></th>\n",
       "      <th></th>\n",
       "      <th></th>\n",
       "      <th></th>\n",
       "      <th></th>\n",
       "    </tr>\n",
       "  </thead>\n",
       "  <tbody>\n",
       "    <tr>\n",
       "      <th>WindDir</th>\n",
       "      <td>-15</td>\n",
       "      <td>-10</td>\n",
       "      <td>0</td>\n",
       "      <td>5</td>\n",
       "      <td>10</td>\n",
       "      <td>15</td>\n",
       "    </tr>\n",
       "    <tr>\n",
       "      <th>Misalignment</th>\n",
       "      <td>FALSE</td>\n",
       "      <td>FALSE</td>\n",
       "      <td>TRUE</td>\n",
       "      <td>TRUE</td>\n",
       "      <td>FALSE</td>\n",
       "      <td>FALSE</td>\n",
       "    </tr>\n",
       "    <tr>\n",
       "      <th>WakeSteer</th>\n",
       "      <td>FALSE</td>\n",
       "      <td>FALSE</td>\n",
       "      <td>FALSE</td>\n",
       "      <td>FALSE</td>\n",
       "      <td>FALSE</td>\n",
       "      <td>FALSE</td>\n",
       "    </tr>\n",
       "  </tbody>\n",
       "</table>\n",
       "</div>"
      ],
      "text/plain": [
       "             Case_0 Case_1 Case_2 Case_3 Case_4 Case_5\n",
       "0                                                     \n",
       "WindDir         -15    -10      0      5     10     15\n",
       "Misalignment  FALSE  FALSE   TRUE   TRUE  FALSE  FALSE\n",
       "WakeSteer     FALSE  FALSE  FALSE  FALSE  FALSE  FALSE"
      ]
     },
     "execution_count": 165,
     "metadata": {},
     "output_type": "execute_result"
    }
   ],
   "source": [
    "Yaw"
   ]
  },
  {
   "cell_type": "markdown",
   "metadata": {},
   "source": [
    "### Specify Turbine Locations"
   ]
  },
  {
   "cell_type": "code",
   "execution_count": 166,
   "metadata": {},
   "outputs": [],
   "source": [
    "turblocs= pd.read_csv('KingPlainsTurbineLocations.csv',header=1)\n",
    "xlocs_OG = turblocs.x_rotated\n",
    "ylocs_OG = turblocs.y_rotated #[0,0,0,0,0,1852.000,1852.000,1852.000,1852.000,3704.000,3704.000,3704.000,]\n",
    "nTurbs = len(xlocs_OG)\n",
    "r=np.zeros(nTurbs)\n",
    "ylocs_new = {case:{turb:{} for turb in range(nTurbs)}for case in range(nCases)}\n",
    "xlocs_new = {case:{turb:{} for turb in range(nTurbs)}for case in range(nCases)}\n",
    "for turb in range(nTurbs):\n",
    "    r[turb] = np.sqrt(xlocs_OG[turb]**2+ylocs_OG[turb]**2)"
   ]
  },
  {
   "cell_type": "code",
   "execution_count": 167,
   "metadata": {
    "scrolled": true
   },
   "outputs": [
    {
     "data": {
      "text/html": [
       "<div>\n",
       "<style scoped>\n",
       "    .dataframe tbody tr th:only-of-type {\n",
       "        vertical-align: middle;\n",
       "    }\n",
       "\n",
       "    .dataframe tbody tr th {\n",
       "        vertical-align: top;\n",
       "    }\n",
       "\n",
       "    .dataframe thead th {\n",
       "        text-align: right;\n",
       "    }\n",
       "</style>\n",
       "<table border=\"1\" class=\"dataframe\">\n",
       "  <thead>\n",
       "    <tr style=\"text-align: right;\">\n",
       "      <th></th>\n",
       "      <th>Turbine#</th>\n",
       "      <th>x_rotated</th>\n",
       "      <th>y_rotated</th>\n",
       "      <th>z</th>\n",
       "    </tr>\n",
       "  </thead>\n",
       "  <tbody>\n",
       "    <tr>\n",
       "      <th>0</th>\n",
       "      <td>0</td>\n",
       "      <td>19678.4069</td>\n",
       "      <td>7386.65328</td>\n",
       "      <td>0</td>\n",
       "    </tr>\n",
       "    <tr>\n",
       "      <th>1</th>\n",
       "      <td>1</td>\n",
       "      <td>17497.0140</td>\n",
       "      <td>11177.42380</td>\n",
       "      <td>0</td>\n",
       "    </tr>\n",
       "    <tr>\n",
       "      <th>2</th>\n",
       "      <td>2</td>\n",
       "      <td>22045.8782</td>\n",
       "      <td>6393.54067</td>\n",
       "      <td>0</td>\n",
       "    </tr>\n",
       "    <tr>\n",
       "      <th>3</th>\n",
       "      <td>3</td>\n",
       "      <td>19039.2543</td>\n",
       "      <td>10213.55400</td>\n",
       "      <td>0</td>\n",
       "    </tr>\n",
       "    <tr>\n",
       "      <th>4</th>\n",
       "      <td>4</td>\n",
       "      <td>18326.2961</td>\n",
       "      <td>11129.18130</td>\n",
       "      <td>0</td>\n",
       "    </tr>\n",
       "    <tr>\n",
       "      <th>5</th>\n",
       "      <td>5</td>\n",
       "      <td>16881.7469</td>\n",
       "      <td>9169.15472</td>\n",
       "      <td>0</td>\n",
       "    </tr>\n",
       "    <tr>\n",
       "      <th>6</th>\n",
       "      <td>6</td>\n",
       "      <td>17580.4701</td>\n",
       "      <td>6115.94876</td>\n",
       "      <td>0</td>\n",
       "    </tr>\n",
       "    <tr>\n",
       "      <th>7</th>\n",
       "      <td>7</td>\n",
       "      <td>17872.2194</td>\n",
       "      <td>11062.49030</td>\n",
       "      <td>0</td>\n",
       "    </tr>\n",
       "    <tr>\n",
       "      <th>8</th>\n",
       "      <td>8</td>\n",
       "      <td>18164.6694</td>\n",
       "      <td>9130.29568</td>\n",
       "      <td>0</td>\n",
       "    </tr>\n",
       "    <tr>\n",
       "      <th>9</th>\n",
       "      <td>9</td>\n",
       "      <td>18574.0937</td>\n",
       "      <td>9127.64773</td>\n",
       "      <td>0</td>\n",
       "    </tr>\n",
       "    <tr>\n",
       "      <th>10</th>\n",
       "      <td>10</td>\n",
       "      <td>20083.7241</td>\n",
       "      <td>8315.22917</td>\n",
       "      <td>0</td>\n",
       "    </tr>\n",
       "    <tr>\n",
       "      <th>11</th>\n",
       "      <td>11</td>\n",
       "      <td>19752.3673</td>\n",
       "      <td>5772.08239</td>\n",
       "      <td>0</td>\n",
       "    </tr>\n",
       "    <tr>\n",
       "      <th>12</th>\n",
       "      <td>12</td>\n",
       "      <td>16777.0255</td>\n",
       "      <td>6187.76845</td>\n",
       "      <td>0</td>\n",
       "    </tr>\n",
       "    <tr>\n",
       "      <th>13</th>\n",
       "      <td>35</td>\n",
       "      <td>21250.3458</td>\n",
       "      <td>6459.71577</td>\n",
       "      <td>0</td>\n",
       "    </tr>\n",
       "    <tr>\n",
       "      <th>14</th>\n",
       "      <td>14</td>\n",
       "      <td>21634.2072</td>\n",
       "      <td>6433.54936</td>\n",
       "      <td>0</td>\n",
       "    </tr>\n",
       "    <tr>\n",
       "      <th>15</th>\n",
       "      <td>15</td>\n",
       "      <td>18001.2264</td>\n",
       "      <td>6000.80290</td>\n",
       "      <td>0</td>\n",
       "    </tr>\n",
       "    <tr>\n",
       "      <th>16</th>\n",
       "      <td>16</td>\n",
       "      <td>18494.7290</td>\n",
       "      <td>7861.15589</td>\n",
       "      <td>0</td>\n",
       "    </tr>\n",
       "    <tr>\n",
       "      <th>17</th>\n",
       "      <td>17</td>\n",
       "      <td>18756.5162</td>\n",
       "      <td>6054.18964</td>\n",
       "      <td>0</td>\n",
       "    </tr>\n",
       "    <tr>\n",
       "      <th>18</th>\n",
       "      <td>18</td>\n",
       "      <td>16312.3939</td>\n",
       "      <td>11254.34100</td>\n",
       "      <td>0</td>\n",
       "    </tr>\n",
       "    <tr>\n",
       "      <th>19</th>\n",
       "      <td>19</td>\n",
       "      <td>18748.5901</td>\n",
       "      <td>11097.59640</td>\n",
       "      <td>0</td>\n",
       "    </tr>\n",
       "    <tr>\n",
       "      <th>20</th>\n",
       "      <td>20</td>\n",
       "      <td>17302.5127</td>\n",
       "      <td>9190.66735</td>\n",
       "      <td>0</td>\n",
       "    </tr>\n",
       "    <tr>\n",
       "      <th>21</th>\n",
       "      <td>21</td>\n",
       "      <td>17572.4789</td>\n",
       "      <td>7900.28096</td>\n",
       "      <td>0</td>\n",
       "    </tr>\n",
       "    <tr>\n",
       "      <th>22</th>\n",
       "      <td>22</td>\n",
       "      <td>20516.3885</td>\n",
       "      <td>8273.21576</td>\n",
       "      <td>0</td>\n",
       "    </tr>\n",
       "    <tr>\n",
       "      <th>23</th>\n",
       "      <td>23</td>\n",
       "      <td>22108.1773</td>\n",
       "      <td>7922.06922</td>\n",
       "      <td>0</td>\n",
       "    </tr>\n",
       "    <tr>\n",
       "      <th>24</th>\n",
       "      <td>24</td>\n",
       "      <td>19298.7103</td>\n",
       "      <td>7771.21078</td>\n",
       "      <td>0</td>\n",
       "    </tr>\n",
       "    <tr>\n",
       "      <th>25</th>\n",
       "      <td>25</td>\n",
       "      <td>18360.3019</td>\n",
       "      <td>6128.51901</td>\n",
       "      <td>0</td>\n",
       "    </tr>\n",
       "    <tr>\n",
       "      <th>26</th>\n",
       "      <td>26</td>\n",
       "      <td>18899.3487</td>\n",
       "      <td>7858.42114</td>\n",
       "      <td>0</td>\n",
       "    </tr>\n",
       "    <tr>\n",
       "      <th>27</th>\n",
       "      <td>27</td>\n",
       "      <td>17117.6019</td>\n",
       "      <td>11119.04410</td>\n",
       "      <td>0</td>\n",
       "    </tr>\n",
       "    <tr>\n",
       "      <th>28</th>\n",
       "      <td>28</td>\n",
       "      <td>16712.4790</td>\n",
       "      <td>11189.86520</td>\n",
       "      <td>0</td>\n",
       "    </tr>\n",
       "    <tr>\n",
       "      <th>29</th>\n",
       "      <td>29</td>\n",
       "      <td>19179.7394</td>\n",
       "      <td>5973.74129</td>\n",
       "      <td>0</td>\n",
       "    </tr>\n",
       "    <tr>\n",
       "      <th>30</th>\n",
       "      <td>30</td>\n",
       "      <td>17192.4595</td>\n",
       "      <td>6161.27584</td>\n",
       "      <td>0</td>\n",
       "    </tr>\n",
       "    <tr>\n",
       "      <th>31</th>\n",
       "      <td>31</td>\n",
       "      <td>20948.6357</td>\n",
       "      <td>8213.79101</td>\n",
       "      <td>0</td>\n",
       "    </tr>\n",
       "    <tr>\n",
       "      <th>32</th>\n",
       "      <td>32</td>\n",
       "      <td>18077.2828</td>\n",
       "      <td>7847.91209</td>\n",
       "      <td>0</td>\n",
       "    </tr>\n",
       "    <tr>\n",
       "      <th>33</th>\n",
       "      <td>33</td>\n",
       "      <td>19478.6207</td>\n",
       "      <td>10218.05950</td>\n",
       "      <td>0</td>\n",
       "    </tr>\n",
       "    <tr>\n",
       "      <th>34</th>\n",
       "      <td>34</td>\n",
       "      <td>17740.5283</td>\n",
       "      <td>9166.37429</td>\n",
       "      <td>0</td>\n",
       "    </tr>\n",
       "  </tbody>\n",
       "</table>\n",
       "</div>"
      ],
      "text/plain": [
       "    Turbine#   x_rotated    y_rotated  z\n",
       "0          0  19678.4069   7386.65328  0\n",
       "1          1  17497.0140  11177.42380  0\n",
       "2          2  22045.8782   6393.54067  0\n",
       "3          3  19039.2543  10213.55400  0\n",
       "4          4  18326.2961  11129.18130  0\n",
       "5          5  16881.7469   9169.15472  0\n",
       "6          6  17580.4701   6115.94876  0\n",
       "7          7  17872.2194  11062.49030  0\n",
       "8          8  18164.6694   9130.29568  0\n",
       "9          9  18574.0937   9127.64773  0\n",
       "10        10  20083.7241   8315.22917  0\n",
       "11        11  19752.3673   5772.08239  0\n",
       "12        12  16777.0255   6187.76845  0\n",
       "13        35  21250.3458   6459.71577  0\n",
       "14        14  21634.2072   6433.54936  0\n",
       "15        15  18001.2264   6000.80290  0\n",
       "16        16  18494.7290   7861.15589  0\n",
       "17        17  18756.5162   6054.18964  0\n",
       "18        18  16312.3939  11254.34100  0\n",
       "19        19  18748.5901  11097.59640  0\n",
       "20        20  17302.5127   9190.66735  0\n",
       "21        21  17572.4789   7900.28096  0\n",
       "22        22  20516.3885   8273.21576  0\n",
       "23        23  22108.1773   7922.06922  0\n",
       "24        24  19298.7103   7771.21078  0\n",
       "25        25  18360.3019   6128.51901  0\n",
       "26        26  18899.3487   7858.42114  0\n",
       "27        27  17117.6019  11119.04410  0\n",
       "28        28  16712.4790  11189.86520  0\n",
       "29        29  19179.7394   5973.74129  0\n",
       "30        30  17192.4595   6161.27584  0\n",
       "31        31  20948.6357   8213.79101  0\n",
       "32        32  18077.2828   7847.91209  0\n",
       "33        33  19478.6207  10218.05950  0\n",
       "34        34  17740.5283   9166.37429  0"
      ]
     },
     "execution_count": 167,
     "metadata": {},
     "output_type": "execute_result"
    }
   ],
   "source": [
    "turblocs"
   ]
  },
  {
   "cell_type": "markdown",
   "metadata": {},
   "source": [
    "### Plot the turbine locations\n"
   ]
  },
  {
   "cell_type": "code",
   "execution_count": 169,
   "metadata": {},
   "outputs": [
    {
     "data": {
      "text/plain": [
       "<matplotlib.collections.PathCollection at 0x7fc768d5fb20>"
      ]
     },
     "execution_count": 169,
     "metadata": {},
     "output_type": "execute_result"
    },
    {
     "data": {
      "image/png": "[encoded data removed]",
      "text/plain": [
       "<Figure size 288x216 with 1 Axes>"
      ]
     },
     "metadata": {
      "needs_background": "light"
     },
     "output_type": "display_data"
    }
   ],
   "source": [
    "fig = plt.figure(figsize=(4,3))\n",
    "# plt.plot([-126,9000,9000,-126,-126],\n",
    "#         [-9900,-9900,9900,9900,-9900],'--k',lw=2,label='Low')\n",
    "plt.scatter(xlocs_OG,ylocs_OG)"
   ]
  },
  {
   "cell_type": "markdown",
   "metadata": {},
   "source": [
    "### Rotate the layout for each yaw angle case and determine max domain extents"
   ]
  },
  {
   "cell_type": "code",
   "execution_count": 170,
   "metadata": {},
   "outputs": [
    {
     "name": "stdout",
     "output_type": "stream",
     "text": [
      "0\n",
      "6268.001864172663\n",
      "6648.9004172297555\n",
      "1\n",
      "7969.28902123041\n",
      "8250.744797723017\n",
      "2\n",
      "7386.653279999999\n",
      "11177.423800000002\n",
      "11254.341\n",
      "3\n",
      "9073.631003638144\n",
      "12659.855578920668\n",
      "12684.073353570813\n",
      "12689.413990878933\n",
      "4\n",
      "10691.552916530403\n",
      "14045.938212655945\n",
      "14142.43195006806\n",
      "14184.657479209622\n",
      "5\n",
      "12228.105655991712\n",
      "15325.122775423535\n",
      "15493.158099991399\n",
      "15571.947159193163\n"
     ]
    }
   ],
   "source": [
    "for index,case in enumerate(caseNames):\n",
    "    print(index)\n",
    "    theta = np.float(Yaw[case]['WindDir'])\n",
    "    ylocs_new[index][0]=0\n",
    "    xlocs_new[index][0]=0\n",
    "    for turb in range(nTurbs):\n",
    "        if xlocs_OG[turb] != 0:\n",
    "            theta_rot = np.arctan(ylocs_OG[turb]/xlocs_OG[turb])+np.radians(theta)\n",
    "            ylocs_new[index][turb] = r[turb]*np.sin(theta_rot)\n",
    "            xlocs_new[index][turb] = r[turb]*np.cos(theta_rot)\n",
    "            \n",
    "    xoff = min(xlocs_new[index].values())\n",
    "    ymax=4170\n",
    "    for turb in range(nTurbs):\n",
    "        xlocs_new[index][turb]=xlocs_new[index][turb]-xoff\n",
    "        if ylocs_new[index][turb] > ymax:\n",
    "            ymax=ylocs_new[index][turb]\n",
    "            print(ymax)\n",
    "    if ymax > 4170.0:\n",
    "        for turb in range(nTurbs):\n",
    "            ylocs_new[index][turb]=ylocs_new[index][turb]-(ymax-4170)           \n"
   ]
  },
  {
   "cell_type": "markdown",
   "metadata": {},
   "source": [
    "### Plot the layouts for validation"
   ]
  },
  {
   "cell_type": "code",
   "execution_count": 185,
   "metadata": {
    "scrolled": false
   },
   "outputs": [
    {
     "name": "stdout",
     "output_type": "stream",
     "text": [
      "New minimum X Value is: 0.0\n",
      "New maximum X Value is: 6796.188259837518\n",
      "New minimum Y Value is: -2015.7858083606827\n",
      "New maximum Y Value is: 4170.0\n"
     ]
    },
    {
     "data": {
      "image/png": "[encoded data removed]",
      "text/plain": [
       "<Figure size 288x216 with 1 Axes>"
      ]
     },
     "metadata": {
      "needs_background": "light"
     },
     "output_type": "display_data"
    },
    {
     "data": {
      "image/png": "[encoded data removed]",
      "text/plain": [
       "<Figure size 288x216 with 1 Axes>"
      ]
     },
     "metadata": {
      "needs_background": "light"
     },
     "output_type": "display_data"
    },
    {
     "data": {
      "image/png": "[encoded data removed]",
      "text/plain": [
       "<Figure size 288x216 with 1 Axes>"
      ]
     },
     "metadata": {
      "needs_background": "light"
     },
     "output_type": "display_data"
    },
    {
     "data": {
      "image/png": "[encoded data removed]",
      "text/plain": [
       "<Figure size 288x216 with 1 Axes>"
      ]
     },
     "metadata": {
      "needs_background": "light"
     },
     "output_type": "display_data"
    },
    {
     "data": {
      "image/png": "[encoded data removed]",
      "text/plain": [
       "<Figure size 288x216 with 1 Axes>"
      ]
     },
     "metadata": {
      "needs_background": "light"
     },
     "output_type": "display_data"
    },
    {
     "data": {
      "image/png": "[encoded data removed]",
      "text/plain": [
       "<Figure size 288x216 with 1 Axes>"
      ]
     },
     "metadata": {
      "needs_background": "light"
     },
     "output_type": "display_data"
    }
   ],
   "source": [
    "x_min_new = 9999\n",
    "x_max_new = 0\n",
    "y_min_new = 9999\n",
    "y_max_new = 0\n",
    "for index,case in enumerate(caseNames):\n",
    "    fig = plt.figure(figsize=(4,3))\n",
    "    plt.plot([-126,9000,9000,-126,-126],\n",
    "            [-4800,-4800,4800,4800,-4800],'--k',lw=2,label='Low')\n",
    "    plt.scatter(xlocs_new[index].values(),ylocs_new[index].values())\n",
    "    plt.title(Yaw[case].WindDir + \" Degrees\")\n",
    "    #Determine new absolute mins and maxes for x and y coords\n",
    "    x_min = min(xlocs_new[index].values())\n",
    "    x_max = max(xlocs_new[index].values())\n",
    "    y_min = min(ylocs_new[index].values())\n",
    "    y_max = max(ylocs_new[index].values())\n",
    "    \n",
    "    if x_min < x_min_new:\n",
    "        x_min_new = x_min\n",
    "    if x_max > x_max_new:\n",
    "        x_max_new = x_max\n",
    "    if y_min < y_min_new:\n",
    "        y_min_new = y_min\n",
    "    if y_max > y_max_new:\n",
    "        y_max_new = y_max\n",
    "            \n",
    "# Max, Min X and Y values\n",
    "print(\"New minimum X Value is: {}\".format(x_min_new))\n",
    "print(\"New maximum X Value is: {}\".format(x_max_new))\n",
    "print(\"New minimum Y Value is: {}\".format(y_min_new))\n",
    "print(\"New maximum Y Value is: {}\".format(y_max_new))"
   ]
  },
  {
   "cell_type": "markdown",
   "metadata": {},
   "source": [
    "### Take these max and min y locations and create a T1, T2, T3 x and y set of coordinates"
   ]
  },
  {
   "cell_type": "code",
   "execution_count": 186,
   "metadata": {},
   "outputs": [],
   "source": [
    "x_span = x_max_new - x_min_new\n",
    "y_span = y_max_new - y_min_new\n",
    "\n",
    "T1_xloc = 0\n",
    "T1_yloc = 0\n",
    "T2_xloc = x_max_new\n",
    "T2_yloc = y_max_new\n",
    "T3_xloc = x_max_new\n",
    "T3_yloc = y_min_new\n",
    "\n",
    "\n",
    "\n"
   ]
  },
  {
   "cell_type": "markdown",
   "metadata": {},
   "source": [
    "### PLACE THESE VALUES IN PARAMVALUES.CSV for turb locations to generate TurbSim lowres domain"
   ]
  },
  {
   "cell_type": "markdown",
   "metadata": {},
   "source": [
    "## You are now ready to run TurbSim simulations to create the low-resolution domains. You can not yet create the high-resolution domains!!"
   ]
  },
  {
   "cell_type": "markdown",
   "metadata": {},
   "source": [
    "### Once the low-resolution simulations are complete, you are ready to finish generating the input files required for the high-resolution TurbSim domains, and you can move on to the next step."
   ]
  },
  {
   "cell_type": "markdown",
   "metadata": {},
   "source": [
    "## The following command creates the User-specified time series files that are required to finish generating the high-resolution TurbSim domains. This step will extract the time series from the .bts file from the low-resolution domain at each of the turbine locations and write them out into .txt files."
   ]
  },
  {
   "cell_type": "code",
   "execution_count": 69,
   "metadata": {},
   "outputs": [],
   "source": [
    "def writeTimeSeriesFile(fileOut,yloc,zloc,u,v,w,time):\n",
    "    import math\n",
    "    \"\"\" Write a TurbSim primary input file, \n",
    "\n",
    "    \"\"\"\n",
    "\n",
    "    print('Writing {0}'.format(fileOut))\n",
    "    # --- Writing TurbSim user-defined time series file\n",
    "    with open(fileOut, 'w') as f:\n",
    "        f.write('--------------TurbSim v2.00.* User Time Series Input File-----------------------\\n')\n",
    "        f.write('     Time series input from Experimental Data\\n')\n",
    "        f.write('--------------------------------------------------------------------------------\\n')\n",
    "        f.write('          3 nComp - Number of velocity components in the file\\n')\n",
    "        f.write('          1 nPoints - Number of time series points contained in this file (-)\\n')\n",
    "        f.write('          1 RefPtID - Index of the reference point (1-nPoints)\\n')\n",
    "        f.write('     Pointyi Pointzi ! nPoints listed in order of increasing height\\n')\n",
    "        f.write('       (m)     (m)\\n')\n",
    "        f.write('       {0}   {1}\\n'.format(yloc,zloc))\n",
    "        f.write('--------Time Series-------------------------------------------------------------\\n')\n",
    "        f.write('Elapsed Time            Point01u                Point01v                Point01w\\n')\n",
    "        f.write('       (s)             (m/s)                   (m/s)                   (m/s)\\n')\n",
    "        for i in range(time.shape[0]):\n",
    "            f.write('{:.2f}\\t{:.5f}\\t{:.5f}\\t{:.5f}\\n'.format(time[i],u[i],v[i],w[i]))"
   ]
  },
  {
   "cell_type": "code",
   "execution_count": 70,
   "metadata": {},
   "outputs": [
    {
     "name": "stdout",
     "output_type": "stream",
     "text": [
      "/home/kshaler/python-toolbox/pyFAST/fastfarm/FFarmSetup/Case00/Seed_0/TurbSim/Low\n"
     ]
    },
    {
     "ename": "Exception",
     "evalue": "Could not find file at /home/kshaler/python-toolbox/pyFAST/fastfarm/FFarmSetup/Case00/Seed_0/TurbSim/Low.bts.",
     "output_type": "error",
     "traceback": [
      "\u001b[0;31m---------------------------------------------------------------------------\u001b[0m",
      "\u001b[0;31mException\u001b[0m                                 Traceback (most recent call last)",
      "\u001b[0;32m<ipython-input-70-b635f0c87743>\u001b[0m in \u001b[0;36m<module>\u001b[0;34m\u001b[0m\n\u001b[1;32m     14\u001b[0m         \u001b[0mprint\u001b[0m\u001b[0;34m(\u001b[0m\u001b[0mTSpathLow\u001b[0m\u001b[0;34m)\u001b[0m\u001b[0;34m\u001b[0m\u001b[0;34m\u001b[0m\u001b[0m\n\u001b[1;32m     15\u001b[0m         \u001b[0mIFdata\u001b[0m \u001b[0;34m=\u001b[0m \u001b[0mstochasticTurbulence\u001b[0m\u001b[0;34m(\u001b[0m\u001b[0mD\u001b[0m\u001b[0;34m,\u001b[0m\u001b[0mprefix\u001b[0m\u001b[0;34m=\u001b[0m\u001b[0mTSpathLow\u001b[0m\u001b[0;34m)\u001b[0m\u001b[0;34m\u001b[0m\u001b[0;34m\u001b[0m\u001b[0m\n\u001b[0;32m---> 16\u001b[0;31m         \u001b[0mIFdata\u001b[0m\u001b[0;34m.\u001b[0m\u001b[0mreadBTS\u001b[0m\u001b[0;34m(\u001b[0m\u001b[0;34m'.'\u001b[0m\u001b[0;34m,\u001b[0m\u001b[0mHubHt\u001b[0m\u001b[0;34m)\u001b[0m\u001b[0;34m\u001b[0m\u001b[0;34m\u001b[0m\u001b[0m\n\u001b[0m\u001b[1;32m     17\u001b[0m         \u001b[0mmeanu\u001b[0m \u001b[0;34m=\u001b[0m \u001b[0mIFdata\u001b[0m\u001b[0;34m.\u001b[0m\u001b[0mu\u001b[0m\u001b[0;34m[\u001b[0m\u001b[0;34m:\u001b[0m\u001b[0;34m,\u001b[0m\u001b[0mIFdata\u001b[0m\u001b[0;34m.\u001b[0m\u001b[0mjHub\u001b[0m\u001b[0;34m,\u001b[0m\u001b[0mIFdata\u001b[0m\u001b[0;34m.\u001b[0m\u001b[0mkHub\u001b[0m\u001b[0;34m]\u001b[0m\u001b[0;34m.\u001b[0m\u001b[0mmean\u001b[0m\u001b[0;34m(\u001b[0m\u001b[0;34m)\u001b[0m\u001b[0;34m\u001b[0m\u001b[0;34m\u001b[0m\u001b[0m\n\u001b[1;32m     18\u001b[0m         \u001b[0mWidth\u001b[0m \u001b[0;34m=\u001b[0m \u001b[0mIFdata\u001b[0m\u001b[0;34m.\u001b[0m\u001b[0mdY\u001b[0m\u001b[0;34m*\u001b[0m\u001b[0;34m(\u001b[0m\u001b[0mIFdata\u001b[0m\u001b[0;34m.\u001b[0m\u001b[0mnY\u001b[0m\u001b[0;34m-\u001b[0m\u001b[0;36m1\u001b[0m\u001b[0;34m)\u001b[0m\u001b[0;34m\u001b[0m\u001b[0;34m\u001b[0m\u001b[0m\n",
      "\u001b[0;32m~/Desktop/AWAKEN/FAST/openfast/python-toolbox/pyFAST/fastfarm/stochasticTurbulenceTools_mod.py\u001b[0m in \u001b[0;36mreadBTS\u001b[0;34m(self, pathToBinary, zHub)\u001b[0m\n\u001b[1;32m     73\u001b[0m \u001b[0;34m\u001b[0m\u001b[0m\n\u001b[1;32m     74\u001b[0m         \u001b[0;32mif\u001b[0m \u001b[0mlen\u001b[0m\u001b[0;34m(\u001b[0m\u001b[0mfilePath\u001b[0m\u001b[0;34m)\u001b[0m\u001b[0;34m==\u001b[0m\u001b[0;36m0\u001b[0m\u001b[0;34m:\u001b[0m\u001b[0;34m\u001b[0m\u001b[0;34m\u001b[0m\u001b[0m\n\u001b[0;32m---> 75\u001b[0;31m             \u001b[0;32mraise\u001b[0m \u001b[0mException\u001b[0m\u001b[0;34m(\u001b[0m\u001b[0;34m\"Could not find file at {0}.\"\u001b[0m\u001b[0;34m.\u001b[0m\u001b[0mformat\u001b[0m\u001b[0;34m(\u001b[0m\u001b[0mfPath\u001b[0m\u001b[0;34m)\u001b[0m\u001b[0;34m)\u001b[0m\u001b[0;34m\u001b[0m\u001b[0;34m\u001b[0m\u001b[0m\n\u001b[0m\u001b[1;32m     76\u001b[0m \u001b[0;34m\u001b[0m\u001b[0m\n\u001b[1;32m     77\u001b[0m         \u001b[0mprint\u001b[0m\u001b[0;34m(\u001b[0m\u001b[0;34m'Opening file {0}...'\u001b[0m\u001b[0;34m.\u001b[0m\u001b[0mformat\u001b[0m\u001b[0;34m(\u001b[0m\u001b[0mfilePath\u001b[0m\u001b[0;34m[\u001b[0m\u001b[0;36m0\u001b[0m\u001b[0;34m]\u001b[0m\u001b[0;34m)\u001b[0m\u001b[0;34m)\u001b[0m\u001b[0;34m\u001b[0m\u001b[0;34m\u001b[0m\u001b[0m\n",
      "\u001b[0;31mException\u001b[0m: Could not find file at /home/kshaler/python-toolbox/pyFAST/fastfarm/FFarmSetup/Case00/Seed_0/TurbSim/Low.bts."
     ]
    }
   ],
   "source": [
    "nSeeds=1\n",
    "yloc = 0.0\n",
    "zloc = HubHt\n",
    "for case in ['Case00']:#caseNames:\n",
    "    xlocs=['None']*nTurbs\n",
    "    ylocs=['None']*nTurbs\n",
    "    for wt in range(nTurbs):\n",
    "        xlocs[wt]=float(ParamVals[case][3+wt*2])\n",
    "        ylocs[wt]=float(ParamVals[case][4+wt*2])\n",
    "    for seed in range(nSeeds):\n",
    "        abspath = '/home/kshaler/python-toolbox/pyFAST/fastfarm/FFarmSetup/{0}/Seed_{1}/TurbSim/'.format(case,seed)\n",
    "        \n",
    "        TSpathLow  = abspath+'Low'\n",
    "        print(TSpathLow)\n",
    "        IFdata = stochasticTurbulence(D,prefix=TSpathLow)\n",
    "        IFdata.readBTS('.',HubHt)\n",
    "        meanu = IFdata.u[:,IFdata.jHub,IFdata.kHub].mean()\n",
    "        Width = IFdata.dY*(IFdata.nY-1)\n",
    "        lowTime = np.arange(0, IFdata.nSeconds, IFdata.dT)\n",
    "        \n",
    "        for wt in range(nTurbs):\n",
    "            tstart=int(xlocs[wt]/meanu/IFdata.dT+3.0*D) ## This 3D is based on the default in this scripts to start the FFarm domain 3D upstream of the most upstream turbine. Modify if needed\n",
    "\n",
    "            tmp = lowTime.shape[0]-tstart\n",
    "\n",
    "            TurbLoc_rel=ylocs[wt]+Width/2.\n",
    "\n",
    "            fileOut = abspath+'USRTimeSeries_T{0}.txt'.format(wt)\n",
    "\n",
    "            uvel = np.zeros(lowTime.shape[0])\n",
    "            vvel = np.zeros(lowTime.shape[0])\n",
    "            wvel = np.zeros(lowTime.shape[0])\n",
    "\n",
    "            uvel[:tmp] = IFdata.u[tstart:,IFdata.y2j(TurbLoc_rel),IFdata.kHub]\n",
    "            vvel[:tmp] = IFdata.v[tstart:,IFdata.y2j(TurbLoc_rel),IFdata.kHub]\n",
    "            wvel[:tmp] = IFdata.w[tstart:,IFdata.y2j(TurbLoc_rel),IFdata.kHub]\n",
    "\n",
    "            uvel[tmp:] = IFdata.u[:tstart,IFdata.y2j(TurbLoc_rel),IFdata.kHub]\n",
    "            vvel[tmp:] = IFdata.v[:tstart,IFdata.y2j(TurbLoc_rel),IFdata.kHub]\n",
    "            wvel[tmp:] = IFdata.w[:tstart,IFdata.y2j(TurbLoc_rel),IFdata.kHub]\n",
    "\n",
    "\n",
    "            writeTimeSeriesFile(fileOut,yloc,zloc,uvel,vvel,wvel,lowTime)"
   ]
  },
  {
   "cell_type": "markdown",
   "metadata": {},
   "source": [
    "### You are now ready to run TurbSim for each of your high-res domains!\n",
    "######  \n",
    "### Once those domains are created, you are ready for the final step of creating the FAST.Farm input (.fstf) input file"
   ]
  },
  {
   "cell_type": "code",
   "execution_count": null,
   "metadata": {},
   "outputs": [],
   "source": [
    "os.getcwd()"
   ]
  },
  {
   "cell_type": "code",
   "execution_count": null,
   "metadata": {},
   "outputs": [],
   "source": [
    "createFFParamFiles(caseNames,nSeeds,ParamVals,HubHt,D,'FFarmParams.txt')"
   ]
  },
  {
   "cell_type": "code",
   "execution_count": null,
   "metadata": {},
   "outputs": [],
   "source": [
    "ParamVals[case]"
   ]
  },
  {
   "cell_type": "code",
   "execution_count": null,
   "metadata": {},
   "outputs": [],
   "source": []
  }
 ],
 "metadata": {
  "kernelspec": {
   "display_name": "Python 3",
   "language": "python",
   "name": "python3"
  },
  "language_info": {
   "codemirror_mode": {
    "name": "ipython",
    "version": 3
   },
   "file_extension": ".py",
   "mimetype": "text/x-python",
   "name": "python",
   "nbconvert_exporter": "python",
   "pygments_lexer": "ipython3",
   "version": "3.8.3"
  }
 },
 "nbformat": 4,
 "nbformat_minor": 2
}
