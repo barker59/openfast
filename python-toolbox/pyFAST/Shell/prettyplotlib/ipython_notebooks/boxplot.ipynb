{
 "metadata": {
  "name": ""
 },
 "nbformat": 3,
 "nbformat_minor": 0,
 "worksheets": [
  {
   "cells": [
    {
     "cell_type": "markdown",
     "metadata": {},
     "source": [
      "# `prettyplotlib.boxplot`\n",
      "\n",
      "The original matplotlib boxplots are okay, but their lines are too thick and the blues and reds are a little garish."
     ]
    },
    {
     "cell_type": "code",
     "collapsed": false,
     "input": [
      "import matplotlib.pyplot as plt\n",
      "np.random.seed(10)\n",
      "\n",
      "data = np.random.randn(8, 4)\n",
      "labels = ['A', 'B', 'C', 'D']\n",
      "\n",
      "fig, ax = plt.subplots()\n",
      "ax.boxplot(data)\n",
      "ax.set_xticklabels(labels)\n",
      "fig.savefig('boxplot_matplotlib_default.png')"
     ],
     "language": "python",
     "metadata": {},
     "outputs": [
      {
       "metadata": {},
       "output_type": "display_data",
       "png": "[encoded data removed]",
       "text": [
        "<matplotlib.figure.Figure at 0x10ca96090>"
       ]
      }
     ],
     "prompt_number": 1
    },
    {
     "cell_type": "markdown",
     "metadata": {},
     "source": [
      "In `prettyplotlib`, we did the usual softening of the blacks and removing of the axes. We also changed the colors of the boxplot, which is actually really annoying to do by hand:\n",
      "\n",
      "    import brewer2mpl\n",
      "    set1 = brewer2mpl.get_map('Set1', 'qualitative', 7).mpl_colors\n",
      "\n",
      "    bp = ax.boxplot(x, **kwargs)\n",
      "    plt.setp(bp['boxes'], color=set1[1], linewidth=0.5)\n",
      "    plt.setp(bp['medians'], color=set1[0])\n",
      "    plt.setp(bp['whiskers'], color=set1[1], linestyle='solid', linewidth=0.5)\n",
      "    plt.setp(bp['fliers'], color=set1[1])\n",
      "    plt.setp(bp['caps'], color='none')\n",
      "\n",
      "So using `prettyplotlib.boxplot` is much easier."
     ]
    },
    {
     "cell_type": "code",
     "collapsed": false,
     "input": [
      "%load_ext autoreload\n",
      "%autoreload 2"
     ],
     "language": "python",
     "metadata": {},
     "outputs": [
      {
       "output_type": "stream",
       "stream": "stdout",
       "text": [
        "The autoreload extension is already loaded. To reload it, use:\n",
        "  %reload_ext autoreload\n"
       ]
      }
     ],
     "prompt_number": 2
    },
    {
     "cell_type": "code",
     "collapsed": false,
     "input": [
      "import prettyplotlib as ppl\n",
      "import matplotlib as mpl\n",
      "\n",
      "np.random.seed(10)\n",
      "\n",
      "data = np.random.randn(8, 4)\n",
      "labels = ['A', 'B', 'C', 'D']\n",
      "\n",
      "fig, ax = plt.subplots()\n",
      "ppl.boxplot(ax, data, xticklabels=labels)\n",
      "fig.savefig('boxplot_prettyplotlib_default.png')"
     ],
     "language": "python",
     "metadata": {},
     "outputs": [
      {
       "metadata": {},
       "output_type": "display_data",
       "png": "[encoded data removed]",
       "text": [
        "<matplotlib.figure.Figure at 0x10cef3a50>"
       ]
      }
     ],
     "prompt_number": 3
    },
    {
     "cell_type": "markdown",
     "metadata": {},
     "source": [
      "As of v0.1.4, this also works without an `ax` as the first argument!!"
     ]
    },
    {
     "cell_type": "code",
     "collapsed": false,
     "input": [
      "ppl.boxplot(data, xticklabels=labels)"
     ],
     "language": "python",
     "metadata": {},
     "outputs": [
      {
       "metadata": {},
       "output_type": "pyout",
       "prompt_number": 4,
       "text": [
        "<matplotlib.axes.AxesSubplot at 0x10cfbdad0>"
       ]
      },
      {
       "metadata": {},
       "output_type": "display_data",
       "png": "[encoded data removed]",
       "text": [
        "<matplotlib.figure.Figure at 0x10d008a90>"
       ]
      }
     ],
     "prompt_number": 4
    },
    {
     "cell_type": "code",
     "collapsed": false,
     "input": [],
     "language": "python",
     "metadata": {},
     "outputs": []
    }
   ],
   "metadata": {}
  }
 ]
}